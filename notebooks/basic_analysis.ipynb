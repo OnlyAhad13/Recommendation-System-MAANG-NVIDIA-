{
 "cells": [
  {
   "cell_type": "code",
   "execution_count": null,
   "id": "7d1cb99f",
   "metadata": {
    "ExecuteTime": {
     "end_time": "2025-09-02T07:24:39.562195Z",
     "start_time": "2025-09-02T07:24:39.558889Z"
    }
   },
   "outputs": [],
   "source": [
    "import pandas as pd"
   ]
  },
  {
   "cell_type": "markdown",
   "id": "48ba8bc4",
   "metadata": {},
   "source": [
    "LOADING THE DATA"
   ]
  },
  {
   "cell_type": "code",
   "execution_count": 2,
   "id": "a65ab8b0",
   "metadata": {
    "ExecuteTime": {
     "end_time": "2025-09-02T07:24:39.579613Z",
     "start_time": "2025-09-02T07:24:39.574289Z"
    }
   },
   "outputs": [],
   "source": [
    "#Loading User Data\n",
    "def load_data():\n",
    "    ratings = pd.read_csv('../movies_dataset/ratings.dat',\n",
    "                sep=\"::\", header=None, \n",
    "                names=[\"user_id\", \"movie_id\", \"rating\", \"timestamp\"],\n",
    "                engine='python')\n",
    "\n",
    "    movies = pd.read_csv('../movies_dataset/movies.dat',\n",
    "                sep=\"::\", header=None, \n",
    "                names=[\"movie_id\", \"title\", \"genres\"],\n",
    "                engine='python',\n",
    "                encoding='latin-1')\n",
    "\n",
    "    users = pd.read_csv('../movies_dataset/users.dat',\n",
    "                sep=\"::\", header=None, \n",
    "                names=[\"user_id\", \"gender\", \"age\", \"occupation\", \"zip-code\"],\n",
    "                engine='python')\n",
    "    return ratings, movies, users"
   ]
  },
  {
   "cell_type": "code",
   "execution_count": 3,
   "id": "fca63068",
   "metadata": {
    "ExecuteTime": {
     "end_time": "2025-09-02T07:24:43.564313Z",
     "start_time": "2025-09-02T07:24:39.628356Z"
    }
   },
   "outputs": [],
   "source": [
    "ratings, movies, users = load_data()"
   ]
  },
  {
   "cell_type": "markdown",
   "id": "3b7de942",
   "metadata": {},
   "source": [
    "ANALYZING THE DATA"
   ]
  },
  {
   "cell_type": "code",
   "execution_count": 4,
   "id": "d5871a59",
   "metadata": {
    "ExecuteTime": {
     "end_time": "2025-09-02T07:24:47.400214Z",
     "start_time": "2025-09-02T07:24:47.375044Z"
    }
   },
   "outputs": [
    {
     "name": "stdout",
     "output_type": "stream",
     "text": [
      "=== RATINGS DATA ===\n",
      "Shape: (1000209, 4)\n",
      "\n",
      "First 5 rows:\n",
      "   user_id  movie_id  rating  timestamp\n",
      "0        1      1193       5  978300760\n",
      "1        1       661       3  978302109\n",
      "2        1       914       3  978301968\n",
      "3        1      3408       4  978300275\n",
      "4        1      2355       5  978824291\n",
      "\n",
      "Data types:\n",
      "user_id      int64\n",
      "movie_id     int64\n",
      "rating       int64\n",
      "timestamp    int64\n",
      "dtype: object\n",
      "\n",
      "Basic info:\n",
      "<class 'pandas.core.frame.DataFrame'>\n",
      "RangeIndex: 1000209 entries, 0 to 1000208\n",
      "Data columns (total 4 columns):\n",
      " #   Column     Non-Null Count    Dtype\n",
      "---  ------     --------------    -----\n",
      " 0   user_id    1000209 non-null  int64\n",
      " 1   movie_id   1000209 non-null  int64\n",
      " 2   rating     1000209 non-null  int64\n",
      " 3   timestamp  1000209 non-null  int64\n",
      "dtypes: int64(4)\n",
      "memory usage: 30.5 MB\n",
      "None\n"
     ]
    }
   ],
   "source": [
    "print(\"=== RATINGS DATA ===\")\n",
    "print(f\"Shape: {ratings.shape}\")\n",
    "print(\"\\nFirst 5 rows:\")\n",
    "print(ratings.head())\n",
    "print(\"\\nData types:\")\n",
    "print(ratings.dtypes)\n",
    "print(\"\\nBasic info:\")\n",
    "print(ratings.info())"
   ]
  },
  {
   "cell_type": "code",
   "execution_count": 5,
   "id": "989c4008",
   "metadata": {
    "ExecuteTime": {
     "end_time": "2025-09-02T07:24:47.438819Z",
     "start_time": "2025-09-02T07:24:47.431330Z"
    }
   },
   "outputs": [
    {
     "name": "stdout",
     "output_type": "stream",
     "text": [
      "\n",
      "=== MOVIES DATA ===\n",
      "Shape: (3883, 3)\n",
      "\n",
      "First 5 rows:\n",
      "   movie_id                               title                        genres\n",
      "0         1                    Toy Story (1995)   Animation|Children's|Comedy\n",
      "1         2                      Jumanji (1995)  Adventure|Children's|Fantasy\n",
      "2         3             Grumpier Old Men (1995)                Comedy|Romance\n",
      "3         4            Waiting to Exhale (1995)                  Comedy|Drama\n",
      "4         5  Father of the Bride Part II (1995)                        Comedy\n",
      "\n",
      "Data types:\n",
      "movie_id     int64\n",
      "title       object\n",
      "genres      object\n",
      "dtype: object\n"
     ]
    }
   ],
   "source": [
    "print(\"\\n=== MOVIES DATA ===\")\n",
    "print(f\"Shape: {movies.shape}\")\n",
    "print(\"\\nFirst 5 rows:\")\n",
    "print(movies.head())\n",
    "print(\"\\nData types:\")\n",
    "print(movies.dtypes)"
   ]
  },
  {
   "cell_type": "code",
   "execution_count": 6,
   "id": "17be11ab",
   "metadata": {
    "ExecuteTime": {
     "end_time": "2025-09-02T07:24:47.501373Z",
     "start_time": "2025-09-02T07:24:47.491737Z"
    }
   },
   "outputs": [
    {
     "name": "stdout",
     "output_type": "stream",
     "text": [
      "\n",
      "=== USERS DATA ===\n",
      "Shape: (6040, 5)\n",
      "\n",
      "First 5 rows:\n",
      "   user_id gender  age  occupation zip-code\n",
      "0        1      F    1          10    48067\n",
      "1        2      M   56          16    70072\n",
      "2        3      M   25          15    55117\n",
      "3        4      M   45           7    02460\n",
      "4        5      M   25          20    55455\n",
      "\n",
      "Data types:\n",
      "user_id        int64\n",
      "gender        object\n",
      "age            int64\n",
      "occupation     int64\n",
      "zip-code      object\n",
      "dtype: object\n"
     ]
    }
   ],
   "source": [
    "print(\"\\n=== USERS DATA ===\")\n",
    "print(f\"Shape: {users.shape}\")\n",
    "print(\"\\nFirst 5 rows:\")\n",
    "print(users.head())\n",
    "print(\"\\nData types:\")\n",
    "print(users.dtypes)"
   ]
  },
  {
   "cell_type": "code",
   "execution_count": 7,
   "id": "f0dc5b6d",
   "metadata": {
    "ExecuteTime": {
     "end_time": "2025-09-02T07:24:47.568927Z",
     "start_time": "2025-09-02T07:24:47.552919Z"
    }
   },
   "outputs": [
    {
     "name": "stdout",
     "output_type": "stream",
     "text": [
      "\n",
      "=== MISSING VALUES ===\n",
      "Ratings missing values: 0\n",
      "Movies missing values: 0\n",
      "Users missing values: 0\n"
     ]
    }
   ],
   "source": [
    "print(\"\\n=== MISSING VALUES ===\")\n",
    "print(\"Ratings missing values:\", ratings.isnull().sum().sum())\n",
    "print(\"Movies missing values:\", movies.isnull().sum().sum())\n",
    "print(\"Users missing values:\", users.isnull().sum().sum())"
   ]
  },
  {
   "cell_type": "code",
   "execution_count": 8,
   "id": "2e8d6ebb",
   "metadata": {
    "ExecuteTime": {
     "end_time": "2025-09-02T07:24:47.653883Z",
     "start_time": "2025-09-02T07:24:47.619569Z"
    }
   },
   "outputs": [
    {
     "name": "stdout",
     "output_type": "stream",
     "text": [
      "\n",
      "=== BASIC STATISTICS ===\n",
      "Number of unique users: 6040\n",
      "Number of unique movies: 3706\n",
      "Rating range: 1 to 5\n",
      "Total ratings: 1000209\n"
     ]
    }
   ],
   "source": [
    "print(\"\\n=== BASIC STATISTICS ===\")\n",
    "print(\"Number of unique users:\", ratings['user_id'].nunique())\n",
    "print(\"Number of unique movies:\", ratings['movie_id'].nunique())\n",
    "print(\"Rating range:\", ratings['rating'].min(), \"to\", ratings['rating'].max())\n",
    "print(\"Total ratings:\", len(ratings))"
   ]
  },
  {
   "cell_type": "code",
   "execution_count": 9,
   "id": "1df560bb",
   "metadata": {
    "ExecuteTime": {
     "end_time": "2025-09-02T07:24:47.939502Z",
     "start_time": "2025-09-02T07:24:47.679118Z"
    }
   },
   "outputs": [
    {
     "name": "stdout",
     "output_type": "stream",
     "text": [
      "\n",
      "=== DATA CONSISTENCY CHECKS ===\n",
      "Users in ratings but not in users table: 0\n",
      "Movies in ratings but not in movies table: 0\n"
     ]
    }
   ],
   "source": [
    "print(\"\\n=== DATA CONSISTENCY CHECKS ===\")\n",
    "print(\"Users in ratings but not in users table:\", \n",
    "      len(set(ratings['user_id']) - set(users['user_id'])))\n",
    "print(\"Movies in ratings but not in movies table:\", \n",
    "      len(set(ratings['movie_id']) - set(movies['movie_id'])))"
   ]
  }
 ],
 "metadata": {
  "kernelspec": {
   "display_name": "ml_global",
   "language": "python",
   "name": "python3"
  },
  "language_info": {
   "codemirror_mode": {
    "name": "ipython",
    "version": 3
   },
   "file_extension": ".py",
   "mimetype": "text/x-python",
   "name": "python",
   "nbconvert_exporter": "python",
   "pygments_lexer": "ipython3",
   "version": "3.11.11"
  }
 },
 "nbformat": 4,
 "nbformat_minor": 5
}
