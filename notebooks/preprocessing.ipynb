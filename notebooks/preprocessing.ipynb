{
 "cells": [
  {
   "cell_type": "code",
   "execution_count": 1,
   "id": "initial_id",
   "metadata": {
    "ExecuteTime": {
     "end_time": "2025-09-02T15:51:20.240590Z",
     "start_time": "2025-09-02T15:51:20.237119Z"
    },
    "collapsed": true
   },
   "outputs": [],
   "source": [
    "import pandas as pd\n",
    "import numpy as np\n",
    "import re\n",
    "import pickle"
   ]
  },
  {
   "cell_type": "code",
   "execution_count": 2,
   "id": "3a263e57872c9b2e",
   "metadata": {
    "ExecuteTime": {
     "end_time": "2025-09-02T15:51:20.298853Z",
     "start_time": "2025-09-02T15:51:20.285188Z"
    }
   },
   "outputs": [],
   "source": [
    "def preprocessing_pipeline(ratings, movies, users, rating_threshold=4):\n",
    "    #Timestamp\n",
    "    ratings['datetime'] = pd.to_datetime(ratings['timestamp'], unit='s' )\n",
    "    ratings['rating_year'] = ratings['datetime'].dt.year\n",
    "\n",
    "    #Sequential IDs for embeddings\n",
    "    user_id_map = {uid: i for i, uid in enumerate(ratings['user_id'].unique())}\n",
    "    movie_id_map = {mid: i for i, mid in enumerate(ratings['movie_id'].unique())}\n",
    "    ratings['user_id'] = ratings['user_id'].map(user_id_map)\n",
    "    ratings['movie_id'] = ratings['movie_id'].map(movie_id_map)\n",
    "    movies['movie_id'] = movies['movie_id'].map(movie_id_map)\n",
    "    users['user_id'] = users['user_id'].map(user_id_map)\n",
    "\n",
    "    #Dropping for NaN\n",
    "    movies = movies.dropna(subset=['movie_id'])\n",
    "    movies = movies.copy()\n",
    "    #Movie genres(Multi hot)\n",
    "    all_genres = set()\n",
    "    for g in movies['genres']:\n",
    "        all_genres.update(g.split('|'))\n",
    "    genre_list = sorted(list(all_genres))\n",
    "    for genre in genre_list:\n",
    "        movies[f\"genre_{genre}\"] = movies['genres'].apply(lambda x: int(genre in x.split('|')))\n",
    "\n",
    "    #User demographics\n",
    "    users['age_id'] = pd.Categorical(users['age']).codes\n",
    "    users['gender_id'] = pd.Categorical(users['gender']).codes\n",
    "    users['occupation_id'] = pd.Categorical(users['occupation']).codes\n",
    "\n",
    "    #Extracting movie year and age_at_rating\n",
    "    year_re = re.compile(r'\\((\\d{4})\\)$')\n",
    "    def extract_year(title):\n",
    "        m = year_re.search(title)\n",
    "        return int(m.group(1)) if m else np.nan\n",
    "\n",
    "    movies['year'] = movies['title'].apply(extract_year)\n",
    "    movies['year'] = movies['year'].fillna(movies['year'].median())\n",
    "\n",
    "    #Normalizing release year for model input\n",
    "    movies['year_normalized'] = (movies['year'] - movies['year'].min()) / (movies['year'].max() - movies['year'].min())\n",
    "    #Merging with ratings for at_age_rating\n",
    "    ratings = ratings.merge(movies[['movie_id', 'year']], on='movie_id', how='left')\n",
    "    ratings['age_at_rating'] = (ratings['rating_year'] - ratings['year']).clip(lower=0)\n",
    "\n",
    "    #Train/val/test temporal split\n",
    "    ratings_sorted = ratings.sort_values('timestamp')\n",
    "    n = len(ratings_sorted)\n",
    "    train_size = int(0.8*n)\n",
    "    val_size = int(0.1*n)\n",
    "    train_ratings = ratings_sorted.iloc[:train_size].copy()\n",
    "    val_ratings = ratings_sorted.iloc[train_size:train_size+val_size].copy()\n",
    "    test_ratings = ratings_sorted.iloc[train_size+val_size:].copy()\n",
    "    print(f\"Temporal split → Train: {len(train_ratings)}, Val: {len(val_ratings)}, Test: {len(test_ratings)}\")\n",
    "\n",
    "    #Aggregates (train-only)\n",
    "    train_user_stats = train_ratings.groupby('user_id')['rating'].agg(['mean', 'count', 'std']).reset_index()\n",
    "    train_user_stats.rename(columns={'mean':'user_avg_rating', 'count':'user_rating_count', 'std':'user_rating_std'}, inplace=True)\n",
    "    train_user_stats['user_rating_std'] = train_user_stats['user_rating_std'].fillna(0)\n",
    "\n",
    "    train_movie_stats = train_ratings.groupby('movie_id')['rating'].agg(['mean','count','std']).reset_index()\n",
    "    train_movie_stats.rename(columns={'mean':'movie_avg_rating','count':'movie_rating_count','std':'movie_rating_std'}, inplace=True)\n",
    "    train_movie_stats['movie_rating_std'] = train_movie_stats['movie_rating_std'].fillna(0)\n",
    "\n",
    "    def join_stats(df):\n",
    "        df = df.merge(train_user_stats, on='user_id', how='left')\n",
    "        df = df.merge(train_movie_stats, on='movie_id', how='left')\n",
    "        return df\n",
    "\n",
    "    train_ratings = join_stats(train_ratings)\n",
    "    val_ratings = join_stats(val_ratings)\n",
    "    test_ratings = join_stats(test_ratings)\n",
    "\n",
    "    #Implicit Target (for ranking/retrieval)\n",
    "    for df in [train_ratings, val_ratings, test_ratings]:\n",
    "        df['y_implicit'] = (df['rating'] >= rating_threshold).astype(int)\n",
    "\n",
    "    #Feature dicts\n",
    "    user_features = users.set_index('user_id')[['age_id', 'gender_id', 'occupation_id']].to_dict('index')\n",
    "    movie_features = movies.set_index('movie_id')[\n",
    "        [c for c in movies.columns if c.startswith('genre_')] + ['year_normalized']\n",
    "    ].to_dict('index')\n",
    "\n",
    "    return {\n",
    "        'train_ratings': train_ratings,\n",
    "        'val_ratings': val_ratings,\n",
    "        'test_ratings': test_ratings,\n",
    "        'user_features': user_features,\n",
    "        'movie_features': movie_features,\n",
    "        'train_user_stats': train_user_stats,\n",
    "        'train_movie_stats': train_movie_stats,\n",
    "        'n_users': len(user_id_map),\n",
    "        'n_movies': len(movie_id_map),\n",
    "        'genre_list': genre_list,\n",
    "        'user_id_map': user_id_map,\n",
    "        'movie_id_map': movie_id_map\n",
    "    }\n"
   ]
  },
  {
   "cell_type": "code",
   "execution_count": 3,
   "id": "72076b631ae09aa8",
   "metadata": {
    "ExecuteTime": {
     "end_time": "2025-09-02T15:51:20.336876Z",
     "start_time": "2025-09-02T15:51:20.330777Z"
    }
   },
   "outputs": [],
   "source": [
    "def check_preprocessing_quality(processed_data):\n",
    "    print(\"\\n=== PREPROCESSING QUALITY CHECK ===\")\n",
    "\n",
    "    train = processed_data['train_ratings']\n",
    "\n",
    "    print(f\"User ID range: 0–{train['user_id'].max()} (expected {processed_data['n_users']-1})\")\n",
    "    print(f\"Movie ID range: 0–{train['movie_id'].max()} (expected {processed_data['n_movies']-1})\")\n",
    "\n",
    "    print(f\"Missing values in train: {train.isnull().sum().sum()}\")\n",
    "    print(f\"Data types – user_id: {train['user_id'].dtype}, movie_id: {train['movie_id'].dtype}\")\n",
    "\n",
    "    all_users_train = set(train['user_id'])\n",
    "    all_movies_train = set(train['movie_id'])\n",
    "    val_users = set(processed_data['val_ratings']['user_id'])\n",
    "    test_users = set(processed_data['test_ratings']['user_id'])\n",
    "\n",
    "    print(f\"Val cold-start users: {len(val_users - all_users_train)}\")\n",
    "    print(f\"Test cold-start users: {len(test_users - all_users_train)}\")"
   ]
  },
  {
   "cell_type": "code",
   "execution_count": 4,
   "id": "cdf66905bf6a5068",
   "metadata": {
    "ExecuteTime": {
     "end_time": "2025-09-02T15:51:20.380782Z",
     "start_time": "2025-09-02T15:51:20.377097Z"
    }
   },
   "outputs": [],
   "source": [
    "#Loading User Data\n",
    "def load_data():\n",
    "    ratings = pd.read_csv('../movies_dataset/ratings.dat',\n",
    "                sep=\"::\", header=None,\n",
    "                names=[\"user_id\", \"movie_id\", \"rating\", \"timestamp\"],\n",
    "                engine='python')\n",
    "\n",
    "    movies = pd.read_csv('../movies_dataset/movies.dat',\n",
    "                sep=\"::\", header=None,\n",
    "                names=[\"movie_id\", \"title\", \"genres\"],\n",
    "                engine='python',\n",
    "                encoding='latin-1')\n",
    "\n",
    "    users = pd.read_csv('../movies_dataset/users.dat',\n",
    "                sep=\"::\", header=None,\n",
    "                names=[\"user_id\", \"gender\", \"age\", \"occupation\", \"zip-code\"],\n",
    "                engine='python')\n",
    "    return ratings, movies, users"
   ]
  },
  {
   "cell_type": "code",
   "execution_count": 5,
   "id": "705b11f0797447f9",
   "metadata": {
    "ExecuteTime": {
     "end_time": "2025-09-02T15:51:24.760447Z",
     "start_time": "2025-09-02T15:51:20.426466Z"
    }
   },
   "outputs": [],
   "source": [
    "ratings, movies, users = load_data()"
   ]
  },
  {
   "cell_type": "code",
   "execution_count": 6,
   "id": "f834b27b52a51eaa",
   "metadata": {
    "ExecuteTime": {
     "end_time": "2025-09-02T15:51:25.491799Z",
     "start_time": "2025-09-02T15:51:24.822256Z"
    }
   },
   "outputs": [
    {
     "name": "stdout",
     "output_type": "stream",
     "text": [
      "Temporal split → Train: 800167, Val: 100020, Test: 100022\n"
     ]
    }
   ],
   "source": [
    "processed = preprocessing_pipeline(ratings, movies, users)"
   ]
  },
  {
   "cell_type": "code",
   "execution_count": 7,
   "id": "34f3a712b142cdbe",
   "metadata": {
    "ExecuteTime": {
     "end_time": "2025-09-02T15:52:01.671456Z",
     "start_time": "2025-09-02T15:52:01.486951Z"
    }
   },
   "outputs": [
    {
     "name": "stdout",
     "output_type": "stream",
     "text": [
      "\n",
      "=== PREPROCESSING QUALITY CHECK ===\n",
      "User ID range: 0–6039 (expected 6039)\n",
      "Movie ID range: 0–3705 (expected 3705)\n",
      "Missing values in train: 0\n",
      "Data types – user_id: int64, movie_id: int64\n",
      "Val cold-start users: 611\n",
      "Test cold-start users: 200\n"
     ]
    }
   ],
   "source": [
    "check_preprocessing_quality(processed)"
   ]
  },
  {
   "cell_type": "code",
   "execution_count": 10,
   "id": "56a85e3275195f80",
   "metadata": {
    "ExecuteTime": {
     "end_time": "2025-09-02T16:19:10.207613Z",
     "start_time": "2025-09-02T16:19:09.855183Z"
    }
   },
   "outputs": [],
   "source": [
    "with open(\"../movies_dataset/processed_data.pkl\", \"wb\") as f:\n",
    "    pickle.dump(processed, f)"
   ]
  }
 ],
 "metadata": {
  "kernelspec": {
   "display_name": "ml_global",
   "language": "python",
   "name": "python3"
  },
  "language_info": {
   "codemirror_mode": {
    "name": "ipython",
    "version": 3
   },
   "file_extension": ".py",
   "mimetype": "text/x-python",
   "name": "python",
   "nbconvert_exporter": "python",
   "pygments_lexer": "ipython3",
   "version": "3.11.11"
  }
 },
 "nbformat": 4,
 "nbformat_minor": 5
}
